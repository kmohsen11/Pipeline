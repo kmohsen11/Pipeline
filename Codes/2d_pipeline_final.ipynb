{
 "cells": [
  {
   "cell_type": "code",
   "execution_count": 1,
   "metadata": {},
   "outputs": [],
   "source": [
    "import os\n",
    "import tifffile as tiff\n",
    "import numpy as np\n",
    "from cellpose import models, utils\n",
    "\n",
    "class ImageProcessor3D:\n",
    "    def __init__(self, model_type='cyto'):\n",
    "        \"\"\"\n",
    "        Initialize the ImageProcessor3D with a specific Cellpose model type.\n",
    "        \n",
    "        :param model_type: str, type of Cellpose model ('cyto', 'nuclei', 'cyto2').\n",
    "        \"\"\"\n",
    "        self.model = models.Cellpose(model_type=model_type)\n",
    "\n",
    "    def process_image(self, input_path, output_dir):\n",
    "        \"\"\"\n",
    "        Process the input image stack, segment cells, and save results in Cellpose-compatible formats.\n",
    "        \n",
    "        :param input_path: str, path to the input TIFF image.\n",
    "        :param output_dir: str, directory to save the output files.\n",
    "        \"\"\"\n",
    "        # Load the 3D image stack\n",
    "        image_stack = tiff.imread(input_path)\n",
    "\n",
    "        # Normalize the image stack to range 0-255\n",
    "        normalized_stack = self.normalize_image(image_stack)\n",
    "\n",
    "        # Segment the 3D image stack and retrieve masks and flows\n",
    "        segmented_stack, flows = self.segment_3d(normalized_stack)\n",
    "\n",
    "        # Define base name for output files\n",
    "        base_name = os.path.splitext(os.path.basename(input_path))[0]\n",
    "\n",
    "        # Save segmentation results for Cellpose GUI\n",
    "        npy_output_path = os.path.join(output_dir, f\"{base_name}_masks.npy\")\n",
    "        output_data = {\n",
    "            'masks': segmented_stack.astype(np.uint16),  # Segmented masks\n",
    "            'img': normalized_stack.astype(np.float32),  # Normalized original image\n",
    "            'flows': flows,                              # Flows for advanced processing\n",
    "            'filename': os.path.basename(input_path)     # Original image filename\n",
    "        }\n",
    "        np.save(npy_output_path, output_data)\n",
    "\n",
    "        # Save segmented stack in TIFF format\n",
    "        tiff_output_path = os.path.join(output_dir, f\"{base_name}_segmented.tif\")\n",
    "        tiff.imwrite(tiff_output_path, segmented_stack.astype(np.uint16))\n",
    "\n",
    "        print(f\"Processing complete! Outputs saved as:\\nNPY: {npy_output_path}\\nTIFF: {tiff_output_path}\")\n",
    "\n",
    "    @staticmethod\n",
    "    def normalize_image(image_stack):\n",
    "        \"\"\"\n",
    "        Normalize image to range 0-255 for Cellpose compatibility.\n",
    "        \n",
    "        :param image_stack: 3D numpy array of the input image stack.\n",
    "        :return: Normalized 3D numpy array.\n",
    "        \"\"\"\n",
    "        img_min = image_stack.min()\n",
    "        img_max = image_stack.max()\n",
    "        normalized_stack = (image_stack - img_min) / (img_max - img_min) * 255.0\n",
    "        return normalized_stack\n",
    "\n",
    "    def segment_3d(self, image_stack):\n",
    "        \"\"\"\n",
    "        Perform 3D segmentation on the image stack using Cellpose.\n",
    "        \n",
    "        :param image_stack: 3D numpy array of the input image stack.\n",
    "        :return: Tuple of segmented stack and flow fields as a list.\n",
    "        \"\"\"\n",
    "        segmented_stack = np.zeros_like(image_stack, dtype=np.int32)\n",
    "        all_flows = []\n",
    "\n",
    "        for z, slice_img in enumerate(image_stack):\n",
    "            masks, flows, _, _ = self.model.eval(slice_img, diameter=None, channels=[0, 0])\n",
    "            segmented_stack[z] = masks\n",
    "\n",
    "            # Append flow fields for each slice\n",
    "            all_flows.append(flows)  # Keep flows as a list for inhomogeneous shapes\n",
    "\n",
    "        # Return segmented stack and flow fields (as a list to handle variable shapes)\n",
    "        return segmented_stack, all_flows\n"
   ]
  },
  {
   "cell_type": "code",
   "execution_count": 2,
   "metadata": {},
   "outputs": [
    {
     "name": "stdout",
     "output_type": "stream",
     "text": [
      "Processing complete! Outputs saved as:\n",
      "NPY: /Users/nayeb/Desktop/Test App/TC_19_L2_2-1-1_masks.npy\n",
      "TIFF: /Users/nayeb/Desktop/Test App/TC_19_L2_2-1-1_segmented.tif\n"
     ]
    }
   ],
   "source": [
    "# Usage\n",
    "if __name__ == \"__main__\":\n",
    "    input_image_path = '/Users/nayeb/Downloads/DL_MBL_Data_DP/annotated_images/image_test/TC_19_L2_2-1-1.tif'\n",
    "    output_directory = '/Users/nayeb/Desktop/Test App'\n",
    "    \n",
    "    processor = ImageProcessor3D(model_type='cyto')\n",
    "    processor.process_image(input_image_path, output_directory)"
   ]
  },
  {
   "cell_type": "code",
   "execution_count": null,
   "metadata": {},
   "outputs": [],
   "source": []
  }
 ],
 "metadata": {
  "kernelspec": {
   "display_name": "Python 3",
   "language": "python",
   "name": "python3"
  },
  "language_info": {
   "codemirror_mode": {
    "name": "ipython",
    "version": 3
   },
   "file_extension": ".py",
   "mimetype": "text/x-python",
   "name": "python",
   "nbconvert_exporter": "python",
   "pygments_lexer": "ipython3",
   "version": "3.9.12"
  }
 },
 "nbformat": 4,
 "nbformat_minor": 2
}
